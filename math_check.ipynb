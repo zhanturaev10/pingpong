{
 "cells": [
  {
   "cell_type": "code",
   "execution_count": 3,
   "metadata": {},
   "outputs": [
    {
     "data": {
      "text/plain": [
       "0"
      ]
     },
     "execution_count": 3,
     "metadata": {},
     "output_type": "execute_result"
    },
    {
     "data": {
      "image/png": "[encoded data removed]",
      "text/plain": [
       "<Figure size 1000x400 with 1 Axes>"
      ]
     },
     "metadata": {},
     "output_type": "display_data"
    }
   ],
   "source": [
    "import matplotlib.pyplot as plt\n",
    "import pandas as pd \n",
    "import math\n",
    "\n",
    "a = []\n",
    "y = 1\n",
    "x = 5\n",
    "\n",
    "def f(y,x):\n",
    "    return (9 - y) * math.exp(-0.25*x)\n",
    "\n",
    "for i in range(100):\n",
    "    \n",
    "    y += f(y,x)\n",
    "    a.append(y)\n",
    "a = pd.Series(a)    \n",
    "a1= []\n",
    "y1 = 3\n",
    "x1 = 5\n",
    "\n",
    "\n",
    "for i in range(100):\n",
    "    \n",
    "    y1 += f(y1,x1)\n",
    "    a1.append(y1)\n",
    "a1 = pd.Series(a1)    \n",
    "a2 = []\n",
    "y2 = 4\n",
    "x2 = 4\n",
    "\n",
    "for i in range(100):\n",
    "    \n",
    "    y2 += f(y2,x2)\n",
    "    a2.append(y2)\n",
    "a2 = pd.Series(a2)\n",
    "a3 = []\n",
    "y3= 1\n",
    "x3 = 3\n",
    "\n",
    "\n",
    "for i in range(100):\n",
    "    \n",
    "    y3 += f(y3,x3)\n",
    "    a3.append(y3)  \n",
    "a3 = pd.Series(a3)   \n",
    "      \n",
    "\n",
    "\n",
    "\n",
    "fig = plt.figure(figsize=(10,4))\n",
    "axes = fig.add_axes([0,0,1,1])\n",
    "axes.plot(a, label = f'y = 1, x = 5' )\n",
    "axes.plot(a1,label = f'y = 3, x = 5')\n",
    "axes.plot(a2,label = f'y = 4, x = 4')\n",
    "axes.plot(a3,label = f'y = 1, x = 3')\n",
    "axes.legend()\n",
    "(9-9)"
   ]
  },
  {
   "cell_type": "code",
   "execution_count": null,
   "metadata": {},
   "outputs": [],
   "source": [
    "import matplotlib.pyplot as plt\n",
    "import pandas as pd \n",
    "import math\n",
    "\n",
    "a = []\n",
    "y = 5.1\n",
    "x = 5\n",
    "\n",
    "def f(y,x):\n",
    "    return (7 - y) * math.exp(-0.25*x)\n",
    "for i in range(10):\n",
    "    \n",
    "    y += f(y,x)\n",
    "    a.append(y)\n",
    "print(a)\n",
    "data = pd.Series(a)\n",
    "fig = plt.figure(figsize=(10,4))\n",
    "axes = fig.add_axes([0,0,1,1])\n",
    "axes.plot(data)"
   ]
  },
  {
   "cell_type": "code",
   "execution_count": null,
   "metadata": {},
   "outputs": [],
   "source": [
    "import pandas as pd\n",
    "import matplotlib.pyplot as plt\n",
    "\n",
    "a = []\n",
    "y = 7\n",
    "x = 0.1\n",
    "\n",
    "def f(x,y):\n",
    "    return ((y+x)*2)/(y-x)\n",
    "\n",
    "for i in range(100):\n",
    "    x *= f(x,y)  # Increase x by a factor of the difference between x and y\n",
    "    a.append(x)\n",
    "\n",
    "print(a)\n",
    "data = pd.Series(a)\n",
    "fig = plt.figure(figsize=(10,4))\n",
    "axes = fig.add_axes([0,0,1,1])\n",
    "axes.plot(data)"
   ]
  },
  {
   "cell_type": "code",
   "execution_count": null,
   "metadata": {},
   "outputs": [],
   "source": [
    "f abs(self.rect.right - spr.rect.left) < 10 and self.speed_x > 0:\n",
    "                self.speed_x *= -1\n",
    "                if self.speed_y * spr.velocity < 0: # когда разнонаправленны, значит берем разности скоростей по модулю\n",
    "                    if self.speed_y * 1 < 0:\n",
    "                        self.speed_y += (abs(self.speed_y)+abs(spr.velocity))*0.5\n",
    "                        print(abs(-10))\n",
    "                        print('(abs(self.speed_y)+abs(spr.velocity))*0.5',(abs(self.speed_y)+abs(spr.velocity))*0.5)\n",
    "                    else:\n",
    "                        self.speed_y -= (abs(self.speed_y)+abs(spr.velocity))*0.5\n",
    "                        print('(abs(self.speed_y)+abs(spr.velocity))*0.5',(abs(self.speed_y)+abs(spr.velocity))*0.5)\n",
    "                elif self.speed_y * spr.velocity > 0: # когда равнонаправленны, стоит сперва посмотреть что из них больше, а потом в какую сторону онон направленон, или наоборот\n",
    "                    if self.speed_y * 1 < 0:\n",
    "                        if spr.velocity >= self.speed_y:\n",
    "                            self.speed_y -= 0.1 + 0.9*((self.speed_y-spr.velocity)**2)/(1+(self.speed_y-spr.velocity)**2)\n",
    "                            print('(spr.velocity-self.speed_y)/self.speed_y * 1.1', (spr.velocity-self.speed_y)/self.speed_y * 1.1)\n",
    "                        else:\n",
    "                            self.speed_y += (9 - self.speed_y) * math.exp(-0.5*spr.velocity)\n",
    "                            print('((self.speed_y-spr.velocity)/self.speed_y * 0.5)*self.speed_y', ((self.speed_y-spr.velocity)/self.speed_y * 0.5)*self.speed_y)\n",
    "                    elif self.speed_y * 1 >= 0:\n",
    "                        if spr.velocity >= self.speed_y:\n",
    "                            self.speed_y += 0.1 + 0.9*((self.speed_y-spr.velocity)**2)/(1+(self.speed_y-spr.velocity)**2)\n",
    "                            print('(spr.velocity-self.speed_y)/self.speed_y * 1.1', (spr.velocity-self.speed_y)/self.speed_y * 1.1)\n",
    "                        else:\n",
    "                            self.speed_y += (9 - self.speed_y) * math.exp(-0.5*spr.velocity)\n",
    "                            print('((self.speed_y-spr.velocity)/self.speed_y * 0.5)*self.speed_y', ((self.speed_y-spr.velocity)/self.speed_y * 0.5)*self.speed_y)\n",
    "                print(f'self.speed_y = {self.speed_y}, spr.velocity = {spr.velocity}')"
   ]
  },
  {
   "cell_type": "code",
   "execution_count": null,
   "metadata": {},
   "outputs": [],
   "source": [
    "for i in range(15):\n",
    "    print(4-(3/15)*i)"
   ]
  },
  {
   "cell_type": "code",
   "execution_count": null,
   "metadata": {},
   "outputs": [],
   "source": [
    "import matplotlib.pyplot as plt\n",
    "import pandas as pd \n",
    "import math\n",
    "\n",
    "a = []\n",
    "y = 5\n",
    "x = 0\n",
    "\n",
    "def f(y,x):\n",
    "    return math.exp(x-y) \n",
    "for i in range(100):\n",
    "    print(f(y,x))\n",
    "    x += f(y,x)*y\n",
    "    a.append(x)\n",
    "print(a)\n",
    "data = pd.Series(a)\n",
    "fig = plt.figure(figsize=(10,4))\n",
    "axes = fig.add_axes([0,0,1,1])\n",
    "axes.plot(data)"
   ]
  },
  {
   "cell_type": "code",
   "execution_count": null,
   "metadata": {},
   "outputs": [],
   "source": [
    "import pandas as pd\n",
    "import matplotlib.pyplot as plt\n",
    "\n",
    "a = []\n",
    "y = 5\n",
    "x = 0.1\n",
    "\n",
    "def f(x, y):\n",
    "    target = 7\n",
    "    k = 1.5  # base of the exponential function\n",
    "    exponent = abs(y - x)  # exponent proportional to absolute difference between y and x\n",
    "    delta_x = k**exponent - 1  # compute delta x based on exponential function\n",
    "    return min(delta_x, target - x)  # clip delta x to avoid exceeding maximum value of 7\n",
    "\n",
    "for i in range(10):\n",
    "    x += f(x, y)\n",
    "    a.append(x)\n",
    "\n",
    "data = pd.Series(a)\n",
    "fig = plt.figure(figsize=(10,4))\n",
    "axes = fig.add_axes([0,0,1,1])\n",
    "axes.plot(data)"
   ]
  },
  {
   "cell_type": "code",
   "execution_count": null,
   "metadata": {},
   "outputs": [],
   "source": [
    "import pandas as pd\n",
    "import matplotlib.pyplot as plt\n",
    "import math\n",
    "\n",
    "a = []\n",
    "y = 5\n",
    "x = 0.1\n",
    "\n",
    "def f(x,y):\n",
    "    alpha = 0.1 # adjust the rate of growth\n",
    "    beta = -30 # adjust the sensitivity to the difference between y and x\n",
    "    saturation = 7 # limit the maximum growth of x\n",
    "    diff = abs(y - x)\n",
    "    growth = math.exp(alpha * beta * diff)\n",
    "    return min(growth, saturation - x) # apply the saturation function\n",
    "\n",
    "for i in range(10000):\n",
    "    x += f(x,y)\n",
    "    a.append(x)\n",
    "\n",
    "print(a)\n",
    "data = pd.Series(a)\n",
    "fig = plt.figure(figsize=(10,4))\n",
    "axes = fig.add_axes([0,0,1,1])\n",
    "axes.plot(data)\n"
   ]
  },
  {
   "cell_type": "code",
   "execution_count": null,
   "metadata": {},
   "outputs": [],
   "source": [
    "import plotly.express as px\n"
   ]
  }
 ],
 "metadata": {
  "kernelspec": {
   "display_name": "Python 3",
   "language": "python",
   "name": "python3"
  },
  "language_info": {
   "codemirror_mode": {
    "name": "ipython",
    "version": 3
   },
   "file_extension": ".py",
   "mimetype": "text/x-python",
   "name": "python",
   "nbconvert_exporter": "python",
   "pygments_lexer": "ipython3",
   "version": "3.11.3"
  },
  "orig_nbformat": 4
 },
 "nbformat": 4,
 "nbformat_minor": 2
}
